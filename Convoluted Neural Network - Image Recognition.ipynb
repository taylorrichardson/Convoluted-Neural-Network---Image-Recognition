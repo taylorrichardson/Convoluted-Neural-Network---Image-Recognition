{
 "cells": [
  {
   "cell_type": "code",
   "execution_count": null,
   "metadata": {},
   "outputs": [],
   "source": [
    "\"\"\"\n",
    "Taylor Richardson\n",
    "December 05, 2018\n",
    "\n",
    "Followed tutorial from;\n",
    "https://www.datacamp.com/community/tutorials/convolutional-neural-networks-python (Which was excellent)\n",
    "\n",
    "To create an image recognition CNN (Convoluted Neural Network).\n",
    "\n",
    "It uses keras and TensorFlow primarily to construct the neural net.\n",
    "\n",
    "After adding in drop out layers it has a f1-score of 91%, which is excellent. \n",
    "\n",
    "Was a very fun learning exercise to see how this process when.\n",
    "\n",
    "\n",
    "\"\"\""
   ]
  },
  {
   "cell_type": "code",
   "execution_count": 2,
   "metadata": {},
   "outputs": [
    {
     "name": "stderr",
     "output_type": "stream",
     "text": [
      "Using TensorFlow backend.\n"
     ]
    }
   ],
   "source": [
    "import numpy as np\n",
    "from keras.datasets import fashion_mnist\n",
    "import matplotlib.pyplot as plt\n",
    "from keras.utils import to_categorical\n",
    "from sklearn.model_selection import train_test_split\n",
    "%matplotlib inline\n",
    "import keras\n",
    "from keras.models import Sequential,Input,Model\n",
    "from keras.layers import Dense, Dropout, Flatten\n",
    "from keras.layers import Conv2D, MaxPooling2D\n",
    "from keras.layers.normalization import BatchNormalization\n",
    "from keras.layers.advanced_activations import LeakyReLU"
   ]
  },
  {
   "cell_type": "code",
   "execution_count": 3,
   "metadata": {},
   "outputs": [],
   "source": [
    "(train_x, train_y), (test_x, test_y) = fashion_mnist.load_data()"
   ]
  },
  {
   "cell_type": "code",
   "execution_count": 4,
   "metadata": {},
   "outputs": [
    {
     "name": "stdout",
     "output_type": "stream",
     "text": [
      "Training data shape :  (60000, 28, 28) (60000,)\n",
      "Testing data shape :  (10000, 28, 28) (10000,)\n"
     ]
    }
   ],
   "source": [
    "print('Training data shape : ', train_x.shape, train_y.shape)\n",
    "print('Testing data shape : ', test_x.shape, test_y.shape)"
   ]
  },
  {
   "cell_type": "code",
   "execution_count": 5,
   "metadata": {},
   "outputs": [
    {
     "name": "stdout",
     "output_type": "stream",
     "text": [
      "Total number of outputs:  10\n",
      "Output classes :  [0 1 2 3 4 5 6 7 8 9]\n"
     ]
    }
   ],
   "source": [
    "#Unique numbers from the training data\n",
    "classes = np.unique(train_y)\n",
    "nClasses = len(classes)\n",
    "print('Total number of outputs: ', nClasses)\n",
    "print('Output classes : ', classes)"
   ]
  },
  {
   "cell_type": "code",
   "execution_count": 6,
   "metadata": {},
   "outputs": [
    {
     "data": {
      "text/plain": [
       "Text(0.5, 1.0, 'Ground Truth : 9')"
      ]
     },
     "execution_count": 6,
     "metadata": {},
     "output_type": "execute_result"
    },
    {
     "data": {
      "image/png": "[encoded data removed]",
      "text/plain": [
       "<Figure size 360x360 with 2 Axes>"
      ]
     },
     "metadata": {
      "needs_background": "light"
     },
     "output_type": "display_data"
    }
   ],
   "source": [
    "plt.figure(figsize=[5,5])\n",
    "\n",
    "#Diplay the first image in the training data\n",
    "plt.subplot(121)\n",
    "plt.imshow(train_x[0,:,:], cmap='gray')\n",
    "plt.title(\"Ground Truth : {}\".format(train_y[0]))\n",
    "\n",
    "#Diplay the first image in the testing data\n",
    "plt.subplot(122)\n",
    "plt.imshow(test_x[0,:,:], cmap='gray')\n",
    "plt.title(\"Ground Truth : {}\".format(test_y[0]))"
   ]
  },
  {
   "cell_type": "code",
   "execution_count": 7,
   "metadata": {},
   "outputs": [
    {
     "data": {
      "text/plain": [
       "((60000, 28, 28, 1), (10000, 28, 28, 1))"
      ]
     },
     "execution_count": 7,
     "metadata": {},
     "output_type": "execute_result"
    }
   ],
   "source": [
    "train_x = train_x.reshape(-1, 28, 28, 1)\n",
    "test_x = test_x.reshape(-1, 28, 28, 1)\n",
    "train_x.shape, test_x.shape"
   ]
  },
  {
   "cell_type": "code",
   "execution_count": 8,
   "metadata": {},
   "outputs": [],
   "source": [
    "train_x = train_x.astype('float32')\n",
    "test_x = test_x.astype('float32')\n",
    "train_x = train_x / 255\n",
    "test_x = test_x / 255"
   ]
  },
  {
   "cell_type": "code",
   "execution_count": 9,
   "metadata": {},
   "outputs": [
    {
     "name": "stdout",
     "output_type": "stream",
     "text": [
      "Original label: 9\n",
      "After conversation to one hot  [0. 0. 0. 0. 0. 0. 0. 0. 0. 1.]\n"
     ]
    }
   ],
   "source": [
    "#Change the labels to one hot\n",
    "train_y_one_hot = to_categorical(train_y)\n",
    "test_y_one_hot = to_categorical(test_y)\n",
    "\n",
    "#Display the change for category label using one-hot\n",
    "print('Original label:', train_y[0])\n",
    "print('After conversation to one hot ', train_y_one_hot[0])"
   ]
  },
  {
   "cell_type": "code",
   "execution_count": 10,
   "metadata": {},
   "outputs": [],
   "source": [
    "train_x, valid_x, train_y, valid_y = train_test_split(train_x, train_y_one_hot, test_size = 0.2, random_state=100)"
   ]
  },
  {
   "cell_type": "code",
   "execution_count": 11,
   "metadata": {},
   "outputs": [
    {
     "data": {
      "text/plain": [
       "((48000, 28, 28, 1), (12000, 28, 28, 1), (48000, 10), (12000, 10))"
      ]
     },
     "execution_count": 11,
     "metadata": {},
     "output_type": "execute_result"
    }
   ],
   "source": [
    "train_x.shape, valid_x.shape, train_y.shape, valid_y.shape"
   ]
  },
  {
   "cell_type": "code",
   "execution_count": 12,
   "metadata": {},
   "outputs": [],
   "source": [
    "batch_size = 64\n",
    "epochs = 20\n",
    "num_classes = 10"
   ]
  },
  {
   "cell_type": "code",
   "execution_count": 13,
   "metadata": {},
   "outputs": [],
   "source": [
    "fashion_model = Sequential()\n",
    "fashion_model.add(Conv2D(32, kernel_size=(3, 3),activation='linear',input_shape=(28,28,1),padding='same'))\n",
    "fashion_model.add(MaxPooling2D((2,2),padding='same'))\n",
    "fashion_model.add(Conv2D(64, (3,3), activation='linear', padding = 'same'))\n",
    "fashion_model.add(LeakyReLU(alpha=0.1))\n",
    "fashion_model.add(MaxPooling2D(pool_size=(2,2), padding='same'))\n",
    "fashion_model.add(Conv2D(128, (3,3), activation='linear', padding ='same'))\n",
    "fashion_model.add(LeakyReLU(alpha=0.1))\n",
    "fashion_model.add(MaxPooling2D(pool_size=(2,2),padding='same'))\n",
    "fashion_model.add(Flatten())\n",
    "fashion_model.add(Dense(128, activation='linear'))\n",
    "fashion_model.add(LeakyReLU(alpha=0.1))\n",
    "fashion_model.add(Dense(num_classes, activation='softmax'))"
   ]
  },
  {
   "cell_type": "code",
   "execution_count": 14,
   "metadata": {},
   "outputs": [],
   "source": [
    "fashion_model.compile(loss=keras.losses.categorical_crossentropy, optimizer=keras.optimizers.Adam(),metrics=['accuracy'])"
   ]
  },
  {
   "cell_type": "code",
   "execution_count": 15,
   "metadata": {},
   "outputs": [
    {
     "name": "stdout",
     "output_type": "stream",
     "text": [
      "_________________________________________________________________\n",
      "Layer (type)                 Output Shape              Param #   \n",
      "=================================================================\n",
      "conv2d_1 (Conv2D)            (None, 28, 28, 32)        320       \n",
      "_________________________________________________________________\n",
      "max_pooling2d_1 (MaxPooling2 (None, 14, 14, 32)        0         \n",
      "_________________________________________________________________\n",
      "conv2d_2 (Conv2D)            (None, 14, 14, 64)        18496     \n",
      "_________________________________________________________________\n",
      "leaky_re_lu_1 (LeakyReLU)    (None, 14, 14, 64)        0         \n",
      "_________________________________________________________________\n",
      "max_pooling2d_2 (MaxPooling2 (None, 7, 7, 64)          0         \n",
      "_________________________________________________________________\n",
      "conv2d_3 (Conv2D)            (None, 7, 7, 128)         73856     \n",
      "_________________________________________________________________\n",
      "leaky_re_lu_2 (LeakyReLU)    (None, 7, 7, 128)         0         \n",
      "_________________________________________________________________\n",
      "max_pooling2d_3 (MaxPooling2 (None, 4, 4, 128)         0         \n",
      "_________________________________________________________________\n",
      "flatten_1 (Flatten)          (None, 2048)              0         \n",
      "_________________________________________________________________\n",
      "dense_1 (Dense)              (None, 128)               262272    \n",
      "_________________________________________________________________\n",
      "leaky_re_lu_3 (LeakyReLU)    (None, 128)               0         \n",
      "_________________________________________________________________\n",
      "dense_2 (Dense)              (None, 10)                1290      \n",
      "=================================================================\n",
      "Total params: 356,234\n",
      "Trainable params: 356,234\n",
      "Non-trainable params: 0\n",
      "_________________________________________________________________\n"
     ]
    }
   ],
   "source": [
    "fashion_model.summary()"
   ]
  },
  {
   "cell_type": "code",
   "execution_count": 17,
   "metadata": {
    "scrolled": true
   },
   "outputs": [
    {
     "name": "stdout",
     "output_type": "stream",
     "text": [
      "Train on 48000 samples, validate on 12000 samples\n",
      "Epoch 1/20\n",
      "48000/48000 [==============================] - 63s 1ms/step - loss: 0.4585 - acc: 0.8334 - val_loss: 0.3094 - val_acc: 0.8878\n",
      "Epoch 2/20\n",
      "48000/48000 [==============================] - 67s 1ms/step - loss: 0.2959 - acc: 0.8916 - val_loss: 0.2765 - val_acc: 0.8961\n",
      "Epoch 3/20\n",
      "48000/48000 [==============================] - 64s 1ms/step - loss: 0.2486 - acc: 0.9096 - val_loss: 0.2560 - val_acc: 0.9034\n",
      "Epoch 4/20\n",
      "48000/48000 [==============================] - 61s 1ms/step - loss: 0.2149 - acc: 0.9202 - val_loss: 0.2308 - val_acc: 0.9150\n",
      "Epoch 5/20\n",
      "48000/48000 [==============================] - 64s 1ms/step - loss: 0.1868 - acc: 0.9313 - val_loss: 0.2408 - val_acc: 0.9123\n",
      "Epoch 6/20\n",
      "48000/48000 [==============================] - 65s 1ms/step - loss: 0.1668 - acc: 0.9382 - val_loss: 0.2307 - val_acc: 0.9127\n",
      "Epoch 7/20\n",
      "48000/48000 [==============================] - 69s 1ms/step - loss: 0.1438 - acc: 0.9464 - val_loss: 0.2526 - val_acc: 0.9147\n",
      "Epoch 8/20\n",
      "48000/48000 [==============================] - 62s 1ms/step - loss: 0.1239 - acc: 0.9538 - val_loss: 0.2288 - val_acc: 0.9202\n",
      "Epoch 9/20\n",
      "48000/48000 [==============================] - 66s 1ms/step - loss: 0.1055 - acc: 0.9612 - val_loss: 0.2482 - val_acc: 0.9228\n",
      "Epoch 10/20\n",
      "48000/48000 [==============================] - 76s 2ms/step - loss: 0.0925 - acc: 0.9647 - val_loss: 0.2850 - val_acc: 0.9158\n",
      "Epoch 11/20\n",
      "48000/48000 [==============================] - 71s 1ms/step - loss: 0.0796 - acc: 0.9696 - val_loss: 0.2776 - val_acc: 0.9208\n",
      "Epoch 12/20\n",
      "48000/48000 [==============================] - 69s 1ms/step - loss: 0.0685 - acc: 0.9745 - val_loss: 0.3060 - val_acc: 0.9133\n",
      "Epoch 13/20\n",
      "48000/48000 [==============================] - 70s 1ms/step - loss: 0.0625 - acc: 0.9760 - val_loss: 0.2951 - val_acc: 0.9188\n",
      "Epoch 14/20\n",
      "48000/48000 [==============================] - 67s 1ms/step - loss: 0.0562 - acc: 0.9782 - val_loss: 0.3495 - val_acc: 0.9168\n",
      "Epoch 15/20\n",
      "48000/48000 [==============================] - 67s 1ms/step - loss: 0.0434 - acc: 0.9835 - val_loss: 0.3512 - val_acc: 0.9221\n",
      "Epoch 16/20\n",
      "48000/48000 [==============================] - 64s 1ms/step - loss: 0.0452 - acc: 0.9832 - val_loss: 0.3489 - val_acc: 0.9216\n",
      "Epoch 17/20\n",
      "48000/48000 [==============================] - 65s 1ms/step - loss: 0.0410 - acc: 0.9845 - val_loss: 0.3597 - val_acc: 0.9197\n",
      "Epoch 18/20\n",
      "48000/48000 [==============================] - 65s 1ms/step - loss: 0.0339 - acc: 0.9876 - val_loss: 0.3887 - val_acc: 0.9174\n",
      "Epoch 19/20\n",
      "48000/48000 [==============================] - 65s 1ms/step - loss: 0.0372 - acc: 0.9869 - val_loss: 0.4063 - val_acc: 0.9197\n",
      "Epoch 20/20\n",
      "48000/48000 [==============================] - 67s 1ms/step - loss: 0.0306 - acc: 0.9892 - val_loss: 0.3876 - val_acc: 0.9233\n"
     ]
    }
   ],
   "source": [
    "fashion_train = fashion_model.fit(train_x, train_y, batch_size=batch_size, epochs=epochs, verbose=1,validation_data=(valid_x, valid_y))"
   ]
  },
  {
   "cell_type": "code",
   "execution_count": 18,
   "metadata": {},
   "outputs": [
    {
     "name": "stdout",
     "output_type": "stream",
     "text": [
      "Test loss:  0.4547118291886989\n",
      "Test accuracy:  0.915\n"
     ]
    }
   ],
   "source": [
    "test_eval = fashion_model.evaluate(test_x, test_y_one_hot, verbose=0)\n",
    "print('Test loss: ', test_eval[0])\n",
    "print('Test accuracy: ', test_eval[1])"
   ]
  },
  {
   "cell_type": "code",
   "execution_count": 19,
   "metadata": {},
   "outputs": [
    {
     "data": {
      "image/png": "[encoded data removed]",
      "text/plain": [
       "<Figure size 432x288 with 1 Axes>"
      ]
     },
     "metadata": {
      "needs_background": "light"
     },
     "output_type": "display_data"
    }
   ],
   "source": [
    "accuracy = fashion_train.history['acc']\n",
    "val_accuracy = fashion_train.history['val_acc']\n",
    "loss = fashion_train.history['loss']\n",
    "val_loss = fashion_train.history['loss']\n",
    "epochs = range(len(accuracy))\n",
    "plt.plot(epochs, accuracy, 'bo', label = 'Training Accuracy')\n",
    "plt.plot(epochs, val_accuracy, 'b', label='Validation accuracy')\n",
    "plt.title('Training and validation loss')\n",
    "plt.legend()\n",
    "plt.show()"
   ]
  },
  {
   "cell_type": "code",
   "execution_count": 21,
   "metadata": {},
   "outputs": [],
   "source": [
    "batch_size = 64\n",
    "epochs = 20\n",
    "num_classes = 10"
   ]
  },
  {
   "cell_type": "code",
   "execution_count": 22,
   "metadata": {},
   "outputs": [],
   "source": [
    "fashion_model = Sequential()\n",
    "fashion_model.add(Conv2D(32, kernel_size=(3, 3),activation='linear',input_shape=(28,28,1),padding='same'))\n",
    "fashion_model.add(LeakyReLU(alpha=0.1))\n",
    "fashion_model.add(MaxPooling2D((2,2),padding='same'))\n",
    "fashion_model.add(Dropout(0.25))\n",
    "fashion_model.add(Conv2D(64, (3,3), activation='linear', padding = 'same'))\n",
    "fashion_model.add(LeakyReLU(alpha=0.1))\n",
    "fashion_model.add(MaxPooling2D(pool_size=(2,2), padding='same'))\n",
    "fashion_model.add(Dropout(0.25))\n",
    "fashion_model.add(Conv2D(128, (3,3), activation='linear', padding ='same'))\n",
    "fashion_model.add(LeakyReLU(alpha=0.1))\n",
    "fashion_model.add(MaxPooling2D(pool_size=(2,2),padding='same'))\n",
    "fashion_model.add(Dropout(0.4))\n",
    "fashion_model.add(Flatten())\n",
    "fashion_model.add(Dense(128, activation='linear'))\n",
    "fashion_model.add(LeakyReLU(alpha=0.1))\n",
    "fashion_model.add(Dropout(0.3))\n",
    "fashion_model.add(Dense(num_classes, activation='softmax'))"
   ]
  },
  {
   "cell_type": "code",
   "execution_count": 23,
   "metadata": {},
   "outputs": [
    {
     "name": "stdout",
     "output_type": "stream",
     "text": [
      "_________________________________________________________________\n",
      "Layer (type)                 Output Shape              Param #   \n",
      "=================================================================\n",
      "conv2d_4 (Conv2D)            (None, 28, 28, 32)        320       \n",
      "_________________________________________________________________\n",
      "leaky_re_lu_4 (LeakyReLU)    (None, 28, 28, 32)        0         \n",
      "_________________________________________________________________\n",
      "max_pooling2d_4 (MaxPooling2 (None, 14, 14, 32)        0         \n",
      "_________________________________________________________________\n",
      "dropout_1 (Dropout)          (None, 14, 14, 32)        0         \n",
      "_________________________________________________________________\n",
      "conv2d_5 (Conv2D)            (None, 14, 14, 64)        18496     \n",
      "_________________________________________________________________\n",
      "leaky_re_lu_5 (LeakyReLU)    (None, 14, 14, 64)        0         \n",
      "_________________________________________________________________\n",
      "max_pooling2d_5 (MaxPooling2 (None, 7, 7, 64)          0         \n",
      "_________________________________________________________________\n",
      "dropout_2 (Dropout)          (None, 7, 7, 64)          0         \n",
      "_________________________________________________________________\n",
      "conv2d_6 (Conv2D)            (None, 7, 7, 128)         73856     \n",
      "_________________________________________________________________\n",
      "leaky_re_lu_6 (LeakyReLU)    (None, 7, 7, 128)         0         \n",
      "_________________________________________________________________\n",
      "max_pooling2d_6 (MaxPooling2 (None, 4, 4, 128)         0         \n",
      "_________________________________________________________________\n",
      "dropout_3 (Dropout)          (None, 4, 4, 128)         0         \n",
      "_________________________________________________________________\n",
      "flatten_2 (Flatten)          (None, 2048)              0         \n",
      "_________________________________________________________________\n",
      "dense_3 (Dense)              (None, 128)               262272    \n",
      "_________________________________________________________________\n",
      "leaky_re_lu_7 (LeakyReLU)    (None, 128)               0         \n",
      "_________________________________________________________________\n",
      "dropout_4 (Dropout)          (None, 128)               0         \n",
      "_________________________________________________________________\n",
      "dense_4 (Dense)              (None, 10)                1290      \n",
      "=================================================================\n",
      "Total params: 356,234\n",
      "Trainable params: 356,234\n",
      "Non-trainable params: 0\n",
      "_________________________________________________________________\n"
     ]
    }
   ],
   "source": [
    "fashion_model.summary()"
   ]
  },
  {
   "cell_type": "code",
   "execution_count": 24,
   "metadata": {},
   "outputs": [],
   "source": [
    "fashion_model.compile(loss=keras.losses.categorical_crossentropy, optimizer = keras.optimizers.Adam(),metrics = ['accuracy'])"
   ]
  },
  {
   "cell_type": "code",
   "execution_count": 28,
   "metadata": {},
   "outputs": [
    {
     "name": "stdout",
     "output_type": "stream",
     "text": [
      "Train on 48000 samples, validate on 12000 samples\n",
      "Epoch 1/20\n",
      "48000/48000 [==============================] - 71s 1ms/step - loss: 0.5980 - acc: 0.7787 - val_loss: 0.3553 - val_acc: 0.8683\n",
      "Epoch 2/20\n",
      "48000/48000 [==============================] - 78s 2ms/step - loss: 0.3772 - acc: 0.8630 - val_loss: 0.2861 - val_acc: 0.8910\n",
      "Epoch 3/20\n",
      "48000/48000 [==============================] - 83s 2ms/step - loss: 0.3298 - acc: 0.8795 - val_loss: 0.2527 - val_acc: 0.9030\n",
      "Epoch 4/20\n",
      "48000/48000 [==============================] - 89s 2ms/step - loss: 0.3038 - acc: 0.8870 - val_loss: 0.2415 - val_acc: 0.9087\n",
      "Epoch 5/20\n",
      "48000/48000 [==============================] - 89s 2ms/step - loss: 0.2819 - acc: 0.8943 - val_loss: 0.2329 - val_acc: 0.9112\n",
      "Epoch 6/20\n",
      "48000/48000 [==============================] - 87s 2ms/step - loss: 0.2700 - acc: 0.8997 - val_loss: 0.2203 - val_acc: 0.9177\n",
      "Epoch 7/20\n",
      "48000/48000 [==============================] - 88s 2ms/step - loss: 0.2599 - acc: 0.9036 - val_loss: 0.2298 - val_acc: 0.9125\n",
      "Epoch 8/20\n",
      "48000/48000 [==============================] - 86s 2ms/step - loss: 0.2507 - acc: 0.9070 - val_loss: 0.2143 - val_acc: 0.9184\n",
      "Epoch 9/20\n",
      "48000/48000 [==============================] - 80s 2ms/step - loss: 0.2415 - acc: 0.9103 - val_loss: 0.2072 - val_acc: 0.9205\n",
      "Epoch 10/20\n",
      "48000/48000 [==============================] - 83s 2ms/step - loss: 0.2366 - acc: 0.9130 - val_loss: 0.2009 - val_acc: 0.9222\n",
      "Epoch 11/20\n",
      "48000/48000 [==============================] - 82s 2ms/step - loss: 0.2278 - acc: 0.9152 - val_loss: 0.2163 - val_acc: 0.9200\n",
      "Epoch 12/20\n",
      "48000/48000 [==============================] - 86s 2ms/step - loss: 0.2227 - acc: 0.9183 - val_loss: 0.2062 - val_acc: 0.9204\n",
      "Epoch 13/20\n",
      "48000/48000 [==============================] - 82s 2ms/step - loss: 0.2197 - acc: 0.9175 - val_loss: 0.2012 - val_acc: 0.9239\n",
      "Epoch 14/20\n",
      "48000/48000 [==============================] - 80s 2ms/step - loss: 0.2147 - acc: 0.9191 - val_loss: 0.2072 - val_acc: 0.9242\n",
      "Epoch 15/20\n",
      "48000/48000 [==============================] - 92s 2ms/step - loss: 0.2128 - acc: 0.9203 - val_loss: 0.2018 - val_acc: 0.9261\n",
      "Epoch 16/20\n",
      "48000/48000 [==============================] - 89s 2ms/step - loss: 0.2062 - acc: 0.9217 - val_loss: 0.1931 - val_acc: 0.9277\n",
      "Epoch 17/20\n",
      "48000/48000 [==============================] - 82s 2ms/step - loss: 0.2038 - acc: 0.9232 - val_loss: 0.1941 - val_acc: 0.9275\n",
      "Epoch 18/20\n",
      "48000/48000 [==============================] - 82s 2ms/step - loss: 0.2010 - acc: 0.9242 - val_loss: 0.1971 - val_acc: 0.9265\n",
      "Epoch 19/20\n",
      "48000/48000 [==============================] - 81s 2ms/step - loss: 0.1981 - acc: 0.9256 - val_loss: 0.1930 - val_acc: 0.9285\n",
      "Epoch 20/20\n",
      "48000/48000 [==============================] - 81s 2ms/step - loss: 0.1962 - acc: 0.9259 - val_loss: 0.2023 - val_acc: 0.9266\n"
     ]
    }
   ],
   "source": [
    "fashion_train_dropout = fashion_model.fit(train_x, train_y, batch_size = batch_size, epochs=epochs, verbose=1, validation_data=(valid_x, valid_y))"
   ]
  },
  {
   "cell_type": "code",
   "execution_count": 29,
   "metadata": {},
   "outputs": [],
   "source": [
    "fashion_model.save(\"fashion_model_dropout.h5py\")"
   ]
  },
  {
   "cell_type": "code",
   "execution_count": 31,
   "metadata": {},
   "outputs": [
    {
     "name": "stdout",
     "output_type": "stream",
     "text": [
      "10000/10000 [==============================] - 3s 348us/step\n"
     ]
    }
   ],
   "source": [
    "test_eval = fashion_model.evaluate(test_x, test_y_one_hot, verbose = 1)"
   ]
  },
  {
   "cell_type": "code",
   "execution_count": 32,
   "metadata": {},
   "outputs": [
    {
     "name": "stdout",
     "output_type": "stream",
     "text": [
      "Test loss:  0.23133117459416389\n",
      "Test accuracy:  0.9176\n"
     ]
    }
   ],
   "source": [
    "print('Test loss: ', test_eval[0])\n",
    "print('Test accuracy: ', test_eval[1])"
   ]
  },
  {
   "cell_type": "code",
   "execution_count": 34,
   "metadata": {},
   "outputs": [
    {
     "data": {
      "image/png": "[encoded data removed]",
      "text/plain": [
       "<Figure size 432x288 with 1 Axes>"
      ]
     },
     "metadata": {
      "needs_background": "light"
     },
     "output_type": "display_data"
    },
    {
     "data": {
      "image/png": "[encoded data removed]",
      "text/plain": [
       "<Figure size 432x288 with 1 Axes>"
      ]
     },
     "metadata": {
      "needs_background": "light"
     },
     "output_type": "display_data"
    }
   ],
   "source": [
    "accuracy = fashion_train_dropout.history['acc']\n",
    "val_accuracy = fashion_train_dropout.history['val_acc']\n",
    "loss = fashion_train_dropout.history['loss']\n",
    "val_loss = fashion_train_dropout.history['val_loss']\n",
    "epochs = range(len(accuracy))\n",
    "plt.plot(epochs, accuracy, 'bo', label='Training accuracy')\n",
    "plt.plot(epochs, val_accuracy, 'b', label='Validation accuracy')\n",
    "plt.title('Training and validation accuracy')\n",
    "plt.legend()\n",
    "plt.figure()\n",
    "plt.plot(epochs, loss, 'bo', label='Training loss')\n",
    "plt.plot(epochs, val_loss, 'b', label='Validation loss')\n",
    "plt.title('Training and validation loss')\n",
    "plt.legend()\n",
    "plt.show()"
   ]
  },
  {
   "cell_type": "code",
   "execution_count": 35,
   "metadata": {},
   "outputs": [],
   "source": [
    "predicted_classes = fashion_model.predict(test_x)"
   ]
  },
  {
   "cell_type": "code",
   "execution_count": 36,
   "metadata": {},
   "outputs": [],
   "source": [
    "predicted_classes = np.argmax(np.round(predicted_classes), axis = 1)"
   ]
  },
  {
   "cell_type": "code",
   "execution_count": 37,
   "metadata": {},
   "outputs": [
    {
     "data": {
      "text/plain": [
       "((10000,), (10000,))"
      ]
     },
     "execution_count": 37,
     "metadata": {},
     "output_type": "execute_result"
    }
   ],
   "source": [
    "predicted_classes.shape, test_y.shape"
   ]
  },
  {
   "cell_type": "code",
   "execution_count": 50,
   "metadata": {},
   "outputs": [
    {
     "name": "stdout",
     "output_type": "stream",
     "text": [
      "Found 9146 correct labels\n"
     ]
    },
    {
     "data": {
      "image/png": "[encoded data removed]",
      "text/plain": [
       "<Figure size 432x288 with 9 Axes>"
      ]
     },
     "metadata": {
      "needs_background": "light"
     },
     "output_type": "display_data"
    }
   ],
   "source": [
    "correct = np.where(predicted_classes==test_y)[0]\n",
    "print (\"Found %d correct labels\" % len(correct))\n",
    "for i, correct in enumerate(correct[:9]):\n",
    "    plt.subplot(3,3,i+1)\n",
    "    plt.imshow(test_x[correct].reshape(28,28), cmap='gray', interpolation='none')\n",
    "    plt.title(\"Predicted {}, Class {}\".format(predicted_classes[correct], test_y[correct]))\n",
    "    plt.tight_layout()"
   ]
  },
  {
   "cell_type": "code",
   "execution_count": 51,
   "metadata": {},
   "outputs": [
    {
     "name": "stdout",
     "output_type": "stream",
     "text": [
      "             precision    recall  f1-score   support\n",
      "\n",
      "    Class 0       0.77      0.93      0.84      1000\n",
      "    Class 1       1.00      0.98      0.99      1000\n",
      "    Class 2       0.82      0.93      0.87      1000\n",
      "    Class 3       0.91      0.95      0.93      1000\n",
      "    Class 4       0.91      0.82      0.86      1000\n",
      "    Class 5       0.99      0.98      0.99      1000\n",
      "    Class 6       0.87      0.63      0.73      1000\n",
      "    Class 7       0.95      0.98      0.96      1000\n",
      "    Class 8       0.99      0.98      0.99      1000\n",
      "    Class 9       0.98      0.96      0.97      1000\n",
      "\n",
      "avg / total       0.92      0.91      0.91     10000\n",
      "\n"
     ]
    }
   ],
   "source": [
    "from sklearn.metrics import classification_report\n",
    "target_names = [\"Class {}\".format(i) for i in range(num_classes)]\n",
    "print(classification_report(test_y, predicted_classes,target_names=target_names))"
   ]
  }
 ],
 "metadata": {
  "kernelspec": {
   "display_name": "Python 3",
   "language": "python",
   "name": "python3"
  },
  "language_info": {
   "codemirror_mode": {
    "name": "ipython",
    "version": 3
   },
   "file_extension": ".py",
   "mimetype": "text/x-python",
   "name": "python",
   "nbconvert_exporter": "python",
   "pygments_lexer": "ipython3",
   "version": "3.6.5"
  }
 },
 "nbformat": 4,
 "nbformat_minor": 2
}
